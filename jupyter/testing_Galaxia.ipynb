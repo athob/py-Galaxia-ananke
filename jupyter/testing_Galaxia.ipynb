{
 "cells": [
  {
   "cell_type": "markdown",
   "id": "b88f245d",
   "metadata": {},
   "source": [
    "# Testing Notebook"
   ]
  },
  {
   "cell_type": "code",
   "execution_count": 1,
   "id": "f130bf6c",
   "metadata": {},
   "outputs": [
    {
     "data": {
      "text/plain": [
       "'0.5.0+1.g6ebe2b6.dirty'"
      ]
     },
     "execution_count": 1,
     "metadata": {},
     "output_type": "execute_result"
    }
   ],
   "source": [
    "import numpy as np\n",
    "import galaxia_ananke\n",
    "galaxia_ananke.__version__"
   ]
  },
  {
   "cell_type": "code",
   "execution_count": 2,
   "id": "fa0e3b78",
   "metadata": {},
   "outputs": [],
   "source": [
    "np.random.seed(0)\n",
    "n_parts = 10000\n",
    "\n",
    "p = galaxia_ananke.make_dummy_particles_input(n_parts)\n",
    "rho_pos, rho_vel = galaxia_ananke.make_dummy_densities_input(n_parts)"
   ]
  },
  {
   "attachments": {},
   "cell_type": "markdown",
   "id": "44249eee",
   "metadata": {},
   "source": [
    "Using default photometric system"
   ]
  },
  {
   "cell_type": "code",
   "execution_count": null,
   "id": "1c60e7b4",
   "metadata": {},
   "outputs": [
    {
     "name": "stdout",
     "output_type": "stream",
     "text": [
      "Executing JOB 1/1 = /home/athob/miniconda3/envs/test_pypi/.cache/galaxia_ananke/bin/galaxia -r --hdim=6 --nfile=sim_69732b6 --ngen=0 /home/athob/pypi_sand_box/py-ananke/py-Galaxia-ananke/jupyter/survey_7fc29bb_params\n",
      "JOB 1/1 | CODEDATAPATH=/home/athob/miniconda3/envs/test_pypi/.cache/galaxia_ananke/GalaxiaData/\n",
      "JOB 1/1 | Reading Parameter file-             /home/athob/pypi_sand_box/py-ananke/py-Galaxia-ananke/jupyter/survey_7fc29bb_params\n",
      "JOB 1/1 | --------------------------------------------------------\n",
      "JOB 1/1 | outputFile               survey_7fc29bb          \n",
      "JOB 1/1 | outputDir                /home/athob/pypi_sand_box/py-ananke/py-Galaxia-ananke/jupyter\n",
      "JOB 1/1 | photoCateg               padova                  \n",
      "JOB 1/1 | photoSys                 GAIA__DR2               \n",
      "JOB 1/1 | magcolorNames            G,Gbp-Grp               \n",
      "JOB 1/1 | appMagLimits[0]          -1000                   \n",
      "JOB 1/1 | appMagLimits[1]          1000                    \n",
      "JOB 1/1 | absMagLimits[0]          -1000                   \n",
      "JOB 1/1 | absMagLimits[1]          20                      \n",
      "JOB 1/1 | colorLimits[0]           -1000                   \n",
      "JOB 1/1 | colorLimits[1]           1000                    \n",
      "JOB 1/1 | geometryOption           0                       \n",
      "JOB 1/1 | surveyArea               207.455                 \n",
      "JOB 1/1 | fSample                  0.01                    \n",
      "JOB 1/1 | popID                    10                      \n",
      "JOB 1/1 | warpFlareOn              0                       \n",
      "JOB 1/1 | longitude                76.273                  \n",
      "JOB 1/1 | latitude                 13.4725                 \n",
      "JOB 1/1 | starType                 0                       \n",
      "JOB 1/1 | photoError               0                       \n",
      "JOB 1/1 | seed                     17052                   \n",
      "JOB 1/1 | r_max                    500                     \n",
      "JOB 1/1 | r_min                    0                       \n",
      "JOB 1/1 | nres                     64                      \n",
      "JOB 1/1 | nstart                   0                       \n",
      "JOB 1/1 | rSun[0]                  -8.121973366106948      \n",
      "JOB 1/1 | rSun[1]                  -1.4729444519452402e-11 \n",
      "JOB 1/1 | rSun[2]                  0.020800000030482345    \n",
      "JOB 1/1 | vSun[0]                  12.9                    \n",
      "JOB 1/1 | vSun[1]                  245.6                   \n",
      "JOB 1/1 | vSun[2]                  7.78                    \n",
      "JOB 1/1 | --------------------------------------------------------\n",
      "JOB 1/1 | Reading Halo Sat File=/home/athob/miniconda3/envs/test_pypi/.cache/galaxia_ananke/GalaxiaData/nbody1/filenames/sim_69732b6.txt\n",
      "JOB 1/1 | nbody1/sim_69732b6/\n",
      "JOB 1/1 | \n",
      "JOB 1/1 | \t1\t1\n",
      "JOB 1/1 | \n",
      "JOB 1/1 | path nbody1/sim_69732b6/ sats 1 x[0] 1\n",
      "JOB 1/1 | Halo 1 Sat 0 fname nbody1/sim_69732b6/sim_69732b6.ebf 0\n",
      "JOB 1/1 | nbody1/sim_69732b6/sim_69732b6.ebf 0\n",
      "JOB 1/1 | No of Satellites   =1\n",
      "JOB 1/1 | Generating catalog. Max allowed stars is 18446744073709551615\n",
      "JOB 1/1 | Source numbering will start at 0\n",
      "JOB 1/1 | Writing to /home/athob/pypi_sand_box/py-ananke/py-Galaxia-ananke/jupyter/survey_7fc29bb.sim_69732b6.0.ebf\n",
      "JOB 1/1 | Using geometry:                     All Sky\n",
      "JOB 1/1 | setting center to -8.12197 -1.47294e-11 0.0208 12.9 245.6 7.78\n",
      "JOB 1/1 | Reading Isochrones from dir-        /home/athob/miniconda3/envs/test_pypi/.cache/galaxia_ananke/GalaxiaData/Isochrones/padova/GAIA__DR2\n",
      "JOB 1/1 | Isochrone Grid Size:                (Age bins=71,Feh bins=34,Alpha bins=1)\n",
      "JOB 1/1 | Time Isochrone Reading              3.68498     \n",
      "JOB 1/1 | ------------------------------\n",
      "JOB 1/1 | nbody1/sim_69732b6/sim_69732b6.ebf  Sat No=0\n",
      "JOB 1/1 | Particles=10000\n",
      "JOB 1/1 | Satellite Info\n",
      "JOB 1/1 | Particles=10000 Mass=5.49088e+07 0.379706\n",
      "JOB 1/1 | Total Stars=775864 accepted=775864 rejected=0\n",
      "JOB 1/1 | -----------Done---------------\n",
      "JOB 1/1 | Total stars written                 775864                  \n",
      "JOB 1/1 | 31\n",
      "JOB 1/1 | File written-                       /home/athob/pypi_sand_box/py-ananke/py-Galaxia-ananke/jupyter/survey_7fc29bb.sim_69732b6.0.ebf\n",
      "JOB 1/1 | Calculating magnitudes in GAIA__DR2 system................\n",
      "JOB 1/1 | initializing isochrone data\n",
      "JOB 1/1 | interpolating on isochrone tables\n",
      "JOB 1/1 | Total Time=                         5.91705     \n",
      "Exported the following quantities from /home/athob/pypi_sand_box/py-ananke/py-Galaxia-ananke/jupyter/survey_7fc29bb.sim_69732b6.0.ebf to /home/athob/pypi_sand_box/py-ananke/py-Galaxia-ananke/jupyter/survey_7fc29bb.sim_69732b6.0.h5 for partition 0\n",
      "['age', 'alpha', 'calcium', 'carbon', 'dform', 'dmod', 'feh', 'gaia__dr2_g', 'gaia__dr2_gbp', 'gaia__dr2_grp', 'grav', 'helium', 'lum', 'mact', 'magnesium', 'mtip', 'neon', 'nitrogen', 'oxygen', 'parentid', 'partid', 'partitionid', 'px', 'py', 'pz', 'rad', 'satid', 'silicon', 'smass', 'sulphur', 'teff', 'vx', 'vy', 'vz']\n",
      "Running convert_cartesian_to_galactic post-processing pipeline\n",
      "Exported the following quantities to /home/athob/pypi_sand_box/py-ananke/py-Galaxia-ananke/jupyter/survey_7fc29bb.sim_69732b6.0.h5\n",
      "['mub', 'glat', 'vr', 'glon', 'mul']\n",
      "Overwritten the following quantities to /home/athob/pypi_sand_box/py-ananke/py-Galaxia-ananke/jupyter/survey_7fc29bb.sim_69732b6.0.h5\n",
      "['rad']\n",
      "Running convert_galactic_to_icrs post-processing pipeline\n",
      "Exported the following quantities to /home/athob/pypi_sand_box/py-ananke/py-Galaxia-ananke/jupyter/survey_7fc29bb.sim_69732b6.0.h5\n",
      "['ra', 'mudec', 'mura', 'dec']\n",
      "Exported the following quantities to /home/athob/pypi_sand_box/py-ananke/py-Galaxia-ananke/jupyter/survey_7fc29bb.sim_69732b6.0.h5\n",
      "['pi']\n",
      "Overwritten the following quantities to /home/athob/pypi_sand_box/py-ananke/py-Galaxia-ananke/jupyter/survey_7fc29bb.sim_69732b6.0.h5\n",
      "['teff', 'lum']\n"
     ]
    },
    {
     "data": {
      "text/html": [
       "<pre style=\"white-space:pre;overflow-x:auto;line-height:normal;font-family:Menlo,'DejaVu Sans Mono',consolas,'Courier New',monospace\"><span style=\"color: #7fbfbf; text-decoration-color: #7fbfbf\">[06/17/25 23:35:41] </span><span style=\"color: #808000; text-decoration-color: #808000\">WARNING </span> could not close memmap for column                                   <a href=\"file:///home/athob/miniconda3/envs/test_pypi/lib/python3.10/site-packages/vaex/dataset_mmap.py\" target=\"_blank\"><span style=\"color: #7f7f7f; text-decoration-color: #7f7f7f\">dataset_mmap.py</span></a><span style=\"color: #7f7f7f; text-decoration-color: #7f7f7f\">:</span><a href=\"file:///home/athob/miniconda3/envs/test_pypi/lib/python3.10/site-packages/vaex/dataset_mmap.py#94\" target=\"_blank\"><span style=\"color: #7f7f7f; text-decoration-color: #7f7f7f\">94</span></a>\n",
       "<span style=\"color: #7fbfbf; text-decoration-color: #7fbfbf\">                    </span>         <span style=\"color: #800080; text-decoration-color: #800080\">/home/athob/pypi_sand_box/py-ananke/py-Galaxia-ananke/jupyter/</span><span style=\"color: #ff00ff; text-decoration-color: #ff00ff\">surve</span> <span style=\"color: #7f7f7f; text-decoration-color: #7f7f7f\">                  </span>\n",
       "<span style=\"color: #7fbfbf; text-decoration-color: #7fbfbf\">                    </span>         <span style=\"color: #ff00ff; text-decoration-color: #ff00ff\">y_7fc29bb.sim_69732b6.0.h5</span>                                          <span style=\"color: #7f7f7f; text-decoration-color: #7f7f7f\">                  </span>\n",
       "</pre>\n"
      ],
      "text/plain": [
       "\u001b[2;36m[06/17/25 23:35:41]\u001b[0m\u001b[2;36m \u001b[0m\u001b[33mWARNING \u001b[0m could not close memmap for column                                   \u001b]8;id=36658;file:///home/athob/miniconda3/envs/test_pypi/lib/python3.10/site-packages/vaex/dataset_mmap.py\u001b\\\u001b[2mdataset_mmap.py\u001b[0m\u001b]8;;\u001b\\\u001b[2m:\u001b[0m\u001b]8;id=83037;file:///home/athob/miniconda3/envs/test_pypi/lib/python3.10/site-packages/vaex/dataset_mmap.py#94\u001b\\\u001b[2m94\u001b[0m\u001b]8;;\u001b\\\n",
       "\u001b[2;36m                    \u001b[0m         \u001b[35m/home/athob/pypi_sand_box/py-ananke/py-Galaxia-ananke/jupyter/\u001b[0m\u001b[95msurve\u001b[0m \u001b[2m                  \u001b[0m\n",
       "\u001b[2;36m                    \u001b[0m         \u001b[95my_7fc29bb.sim_69732b6.0.h5\u001b[0m                                          \u001b[2m                  \u001b[0m\n"
      ]
     },
     "metadata": {},
     "output_type": "display_data"
    },
    {
     "name": "stdout",
     "output_type": "stream",
     "text": [
      "Running last_conversions post-processing pipeline\n"
     ]
    },
    {
     "data": {
      "text/html": [
       "<style>.vaex-description pre {\n",
       "          max-width : 450px;\n",
       "          white-space : nowrap;\n",
       "          overflow : hidden;\n",
       "          text-overflow: ellipsis;\n",
       "        }\n",
       "\n",
       "        .vex-description pre:hover {\n",
       "          max-width : initial;\n",
       "          white-space: pre;\n",
       "        }</style>"
      ],
      "text/plain": [
       "<IPython.core.display.HTML object>"
      ]
     },
     "metadata": {},
     "output_type": "display_data"
    },
    {
     "data": {
      "text/html": [
       "<table>\n",
       "<thead>\n",
       "<tr><th>#                                  </th><th>age              </th><th>alpha               </th><th>calcium            </th><th>carbon             </th><th>dec               </th><th>dform  </th><th>dmod              </th><th>feh                 </th><th>gaia__dr2_g  </th><th>gaia__dr2_gbp  </th><th>gaia__dr2_grp  </th><th>glat              </th><th>glon              </th><th>grav     </th><th>helium             </th><th>lum         </th><th>mact       </th><th>magnesium          </th><th>mtip     </th><th>mub                </th><th>mudec              </th><th>mul                </th><th>mura                 </th><th>neon               </th><th>nitrogen           </th><th>oxygen             </th><th>parentid  </th><th>partid  </th><th>partitionid  </th><th>pi                  </th><th>px                 </th><th>py                </th><th>pz                </th><th>ra                </th><th>rad               </th><th>satid  </th><th>silicon            </th><th>smass              </th><th>sulphur            </th><th>teff     </th><th>vr                 </th><th>vx                </th><th>vy                 </th><th>vz                 </th></tr>\n",
       "</thead>\n",
       "<tbody>\n",
       "<tr><td><i style='opacity: 0.6'>0</i>      </td><td>8.955413818359375</td><td>0.039958495646715164</td><td>-0.3540340065956116</td><td>-0.7935190200805664</td><td>-5.998792887017205</td><td>0.0    </td><td>19.18746074617149 </td><td>-0.47136881947517395</td><td>10.049541    </td><td>11.135206      </td><td>9.061388       </td><td>25.249922231154617</td><td>11.125710294666277</td><td>4.959996 </td><td>-0.5525906682014465</td><td>0.013265546 </td><td>0.32571775 </td><td>-0.4314103126525879</td><td>2.025267 </td><td>0.09922013320288019</td><td>-0.5235132378898534</td><td>-0.6965451669594975</td><td>-0.47005711802026073 </td><td>-1.0620990991592407</td><td>-0.1971900761127472</td><td>0.14263589680194855</td><td>0         </td><td>0       </td><td>0            </td><td>0.014538106659870565</td><td>61.0435431903257   </td><td>12.004715919509358</td><td>29.34133874813846 </td><td>250.46307071631102</td><td>68.78474779389899 </td><td>0      </td><td>-0.3710511028766632</td><td>0.32548731676493986</td><td>-1.074652075767517 </td><td>3507.9854</td><td>-27.746013324103355</td><td>5.661607360839843 </td><td>-230.36080513000488</td><td>17.426230163574218 </td></tr>\n",
       "<tr><td><i style='opacity: 0.6'>1</i>      </td><td>8.955413818359375</td><td>0.039958495646715164</td><td>-0.3540340065956116</td><td>-0.7935190200805664</td><td>-6.078382777325507</td><td>0.0    </td><td>19.17772626957188 </td><td>-0.47136881947517395</td><td>10.241194    </td><td>11.348089      </td><td>9.244259       </td><td>24.91742699976654 </td><td>11.265444763667034</td><td>4.982851 </td><td>-0.5525906682014465</td><td>0.0110427225</td><td>0.3004559  </td><td>-0.4314103126525879</td><td>2.025267 </td><td>0.09415126050247345</td><td>-0.5258482940785928</td><td>-0.6950245078461663</td><td>-0.4641197022058473  </td><td>-1.0620990991592407</td><td>-0.1971900761127472</td><td>0.14263589680194855</td><td>0         </td><td>1       </td><td>0            </td><td>0.014603425723734725</td><td>60.90639734491615  </td><td>12.13210424766943 </td><td>28.850194949269017</td><td>250.81175453104717</td><td>68.47708331715039 </td><td>0      </td><td>-0.3710511028766632</td><td>0.3001993465042324 </td><td>-1.074652075767517 </td><td>3470.0093</td><td>-28.69150289866353 </td><td>5.927043392012581 </td><td>-228.8661687232393 </td><td>15.629805070899277 </td></tr>\n",
       "<tr><td><i style='opacity: 0.6'>2</i>      </td><td>8.955413818359375</td><td>0.039958495646715164</td><td>-0.3540340065956116</td><td>-0.7935190200805664</td><td>-5.138299267849358</td><td>0.0    </td><td>19.185273899511152</td><td>-0.47136881947517395</td><td>11.107061    </td><td>12.355882      </td><td>10.057264      </td><td>25.92187778271555 </td><td>11.775691439163865</td><td>5.0564485</td><td>-0.5525906682014465</td><td>0.005601731 </td><td>0.21558467 </td><td>-0.4314103126525879</td><td>2.025267 </td><td>0.10530709674812792</td><td>-0.5240214830221088</td><td>-0.6986598635487486</td><td>-0.4739374166393549  </td><td>-1.0620990991592407</td><td>-0.1971900761127472</td><td>0.14263589680194855</td><td>0         </td><td>1       </td><td>0            </td><td>0.01455275507266425 </td><td>60.501423571082206 </td><td>12.612619399096845</td><td>30.03865872017884 </td><td>250.22797440201435</td><td>68.71551091232134 </td><td>0      </td><td>-0.3710511028766632</td><td>0.21539068894935812</td><td>-1.074652075767517 </td><td>3317.9675</td><td>-29.111106621620536</td><td>6.134445883760534 </td><td>-231.19801069173772</td><td>18.12615024659716  </td></tr>\n",
       "<tr><td><i style='opacity: 0.6'>3</i>      </td><td>8.955413818359375</td><td>0.039958495646715164</td><td>-0.3540340065956116</td><td>-0.7935190200805664</td><td>-5.524790577991773</td><td>0.0    </td><td>19.207804068460238</td><td>-0.47136881947517395</td><td>11.925058    </td><td>13.38647       </td><td>10.810073      </td><td>25.21116836639392 </td><td>11.783731726053816</td><td>5.112998 </td><td>-0.5525906682014465</td><td>0.003062184 </td><td>0.16261049 </td><td>-0.4314103126525879</td><td>2.025267 </td><td>0.10019201694127879</td><td>-0.5222007247094822</td><td>-0.6925051358329714</td><td>-0.4657340512853823  </td><td>-1.0620990991592407</td><td>-0.1971900761127472</td><td>0.14263589680194855</td><td>0         </td><td>1       </td><td>0            </td><td>0.014402543191843609</td><td>61.494482012630804 </td><td>12.828645228710391</td><td>29.57503067357209 </td><td>250.82704446121193</td><td>69.432181988964   </td><td>0      </td><td>-0.3710511028766632</td><td>0.16261048971195396</td><td>-1.074652075767517 </td><td>3159.8638</td><td>-29.19541659074254 </td><td>6.939285760018809 </td><td>-231.39132574926623</td><td>17.400082231397555 </td></tr>\n",
       "<tr><td><i style='opacity: 0.6'>4</i>      </td><td>8.955413818359375</td><td>0.039958495646715164</td><td>-0.3540340065956116</td><td>-0.7935190200805664</td><td>-6.04862223860699 </td><td>0.0    </td><td>19.190335038839063</td><td>-0.47136881947517395</td><td>5.3339996    </td><td>5.643775       </td><td>4.856216       </td><td>25.251887393526133</td><td>11.057931890034865</td><td>4.6138034</td><td>-0.5525906682014465</td><td>0.55209434  </td><td>0.84384394 </td><td>-0.4314103126525879</td><td>2.025267 </td><td>0.09358150080456794</td><td>-0.5262251544833458</td><td>-0.696352107848041 </td><td>-0.4655650783577135  </td><td>-1.0620990991592407</td><td>-0.1971900761127472</td><td>0.14263589680194855</td><td>0         </td><td>1       </td><td>0            </td><td>0.014518875869908207</td><td>61.13758569650298  </td><td>11.948107439766392</td><td>29.382339057002177</td><td>250.4271112763156 </td><td>68.87585574531965 </td><td>0      </td><td>-0.3710511028766632</td><td>0.8437795505866239 </td><td>-1.074652075767517 </td><td>5751.3896</td><td>-28.338640849684552</td><td>5.660935252278124 </td><td>-230.55651408402534</td><td>15.545731299267977 </td></tr>\n",
       "<tr><td>...                                </td><td>...              </td><td>...                 </td><td>...                </td><td>...                </td><td>...               </td><td>...    </td><td>...               </td><td>...                 </td><td>...          </td><td>...            </td><td>...            </td><td>...               </td><td>...               </td><td>...      </td><td>...                </td><td>...         </td><td>...        </td><td>...                </td><td>...      </td><td>...                </td><td>...                </td><td>...                </td><td>...                  </td><td>...                </td><td>...                </td><td>...                </td><td>...       </td><td>...     </td><td>...          </td><td>...                 </td><td>...                </td><td>...               </td><td>...               </td><td>...               </td><td>...               </td><td>...    </td><td>...                </td><td>...                </td><td>...                </td><td>...      </td><td>...                </td><td>...               </td><td>...                </td><td>...                </td></tr>\n",
       "<tr><td><i style='opacity: 0.6'>775,859</i></td><td>9.305075645446777</td><td>-0.2378266155719757 </td><td>-1.3668785095214844</td><td>0.2941742241382599 </td><td>70.67111612946258 </td><td>0.0    </td><td>18.90170756905462 </td><td>-0.8195078372955322 </td><td>11.241103    </td><td>12.384796      </td><td>10.232504      </td><td>38.41318715785056 </td><td>141.6879639548714 </td><td>5.1169367</td><td>-1.1140830516815186</td><td>0.004501903 </td><td>0.17917392 </td><td>-1.0573344230651855</td><td>1.4649662</td><td>0.4807902597717601 </td><td>-1.016093702313822 </td><td>0.8958097391103346 </td><td>-0.034466660623133694</td><td>-0.6839846968650818</td><td>-0.5307199358940125</td><td>-0.5255457162857056</td><td>9999      </td><td>1       </td><td>0            </td><td>0.01658282380010515 </td><td>-37.07510104577422 </td><td>29.29279854454534 </td><td>37.468174640835166</td><td>143.29136458579325</td><td>60.30336039593324 </td><td>0      </td><td>-1.154412031173706 </td><td>0.17931102772855806</td><td>-0.8922590613365173</td><td>3407.4797</td><td>-199.0442694964203 </td><td>30.623997868772303</td><td>-350.5618067151211 </td><td>-15.979271128067806</td></tr>\n",
       "<tr><td><i style='opacity: 0.6'>775,860</i></td><td>9.305075645446777</td><td>-0.2378266155719757 </td><td>-1.3668785095214844</td><td>0.2941742241382599 </td><td>70.91289076868368 </td><td>0.0    </td><td>18.90273659220677 </td><td>-0.8195078372955322 </td><td>12.456706    </td><td>13.928801      </td><td>11.343059      </td><td>38.48872288187365 </td><td>141.27209861703662</td><td>5.209868 </td><td>-1.1140830516815186</td><td>0.0018179495</td><td>0.123802505</td><td>-1.0573344230651855</td><td>1.4649662</td><td>0.4852741817559974 </td><td>-1.0072602674869668</td><td>0.8835920513484223 </td><td>-0.040653391336381184</td><td>-0.6839846968650818</td><td>-0.5307199358940125</td><td>-0.5255457162857056</td><td>9999      </td><td>1       </td><td>0            </td><td>0.01657496734888373 </td><td>-36.8403994949178  </td><td>29.544191996008777</td><td>37.54822415752705 </td><td>143.9932339658371 </td><td>60.331943885690166</td><td>0      </td><td>-1.154412031173706 </td><td>0.12392672176311978</td><td>-0.8922590613365173</td><td>3140.5276</td><td>-200.98664293116417</td><td>32.01265661986065 </td><td>-349.60610696104965</td><td>-16.451533225671504</td></tr>\n",
       "<tr><td><i style='opacity: 0.6'>775,861</i></td><td>9.305075645446777</td><td>-0.2378266155719757 </td><td>-1.3668785095214844</td><td>0.2941742241382599 </td><td>70.43729673551601 </td><td>0.0    </td><td>18.926576412045645</td><td>-0.8195078372955322 </td><td>8.628792     </td><td>9.432074       </td><td>7.774683       </td><td>38.80153334589538 </td><td>141.74174016198222</td><td>4.847518 </td><td>-1.1140830516815186</td><td>0.03736311  </td><td>0.4449833  </td><td>-1.0573344230651855</td><td>1.4649662</td><td>0.4830601169627003 </td><td>-1.004163986909441 </td><td>0.8812544399141216 </td><td>-0.04013915622562014 </td><td>-0.6839846968650818</td><td>-0.5307199358940125</td><td>-0.5255457162857056</td><td>9999      </td><td>1       </td><td>0            </td><td>0.01639399195352484 </td><td>-37.32736790647356 </td><td>29.43525053969479 </td><td>38.22282391671362 </td><td>144.23127373657022</td><td>60.997956009426495</td><td>0      </td><td>-1.154412031173706 </td><td>0.4458544863014953 </td><td>-0.8922590613365173</td><td>3939.6428</td><td>-201.30710826075654</td><td>34.12993031113594 </td><td>-351.4345797893973 </td><td>-17.287492042842214</td></tr>\n",
       "<tr><td><i style='opacity: 0.6'>775,862</i></td><td>9.305075645446777</td><td>-0.2378266155719757 </td><td>-1.3668785095214844</td><td>0.2941742241382599 </td><td>69.95154967461595 </td><td>0.0    </td><td>18.902742093684775</td><td>-0.8195078372955322 </td><td>11.216943    </td><td>12.356519      </td><td>10.209925      </td><td>38.85761019322597 </td><td>142.4229936107059 </td><td>5.114827 </td><td>-1.1140830516815186</td><td>0.004596257 </td><td>0.18079981 </td><td>-1.0573344230651855</td><td>1.4649662</td><td>0.4834331989252302 </td><td>-1.0284630455598573</td><td>0.9084405468831181 </td><td>-0.03515179884616021 </td><td>-0.6839846968650818</td><td>-0.5307199358940125</td><td>-0.5255457162857056</td><td>9999      </td><td>1       </td><td>0            </td><td>0.016574925355855228</td><td>-37.23410643245739 </td><td>28.650325037689225</td><td>37.851579759027125</td><td>143.57897004035064</td><td>60.3320967383266  </td><td>0      </td><td>-1.154412031173706 </td><td>0.18096256208800496</td><td>-0.8922590613365173</td><td>3412.8975</td><td>-196.617340354834  </td><td>31.647861764959043</td><td>-352.1815579450567 </td><td>-15.688656636764733</td></tr>\n",
       "<tr><td><i style='opacity: 0.6'>775,863</i></td><td>9.305075645446777</td><td>-0.2378266155719757 </td><td>-1.3668785095214844</td><td>0.2941742241382599 </td><td>70.62985388732851 </td><td>0.0    </td><td>18.898967682504647</td><td>-0.8195078372955322 </td><td>8.079974     </td><td>8.781318       </td><td>7.285962       </td><td>38.34771367577185 </td><td>141.79694022650438</td><td>4.794572 </td><td>-1.1140830516815186</td><td>0.057495065 </td><td>0.49785998 </td><td>-1.0573344230651855</td><td>1.4649662</td><td>0.4752583711275395 </td><td>-1.0141450542323103</td><td>0.8965126335850067 </td><td>-0.03339506670856618 </td><td>-0.6839846968650818</td><td>-0.5307199358940125</td><td>-0.5255457162857056</td><td>9999      </td><td>1       </td><td>0            </td><td>0.016603760622474414</td><td>-37.117507118691734</td><td>29.211807713004752</td><td>37.36697738979725 </td><td>142.9913363019243 </td><td>60.22731974625232 </td><td>0      </td><td>-1.154412031173706 </td><td>0.4980831631266951 </td><td>-0.8922590613365173</td><td>4139.4316</td><td>-199.57078472808138</td><td>30.85048586790266 </td><td>-350.0009219979422 </td><td>-17.404691191613058</td></tr>\n",
       "</tbody>\n",
       "</table>"
      ],
      "text/plain": [
       "#        age                alpha                 calcium              carbon               dec                 dform    dmod                feh                   gaia__dr2_g    gaia__dr2_gbp    gaia__dr2_grp    glat                glon                grav       helium               lum           mact         magnesium            mtip       mub                  mudec                mul                  mura                   neon                 nitrogen             oxygen               parentid    partid    partitionid    pi                    px                   py                  pz                  ra                  rad                 satid    silicon              smass                sulphur              teff       vr                   vx                  vy                   vz\n",
       "0        8.955413818359375  0.039958495646715164  -0.3540340065956116  -0.7935190200805664  -5.998792887017205  0.0      19.18746074617149   -0.47136881947517395  10.049541      11.135206        9.061388         25.249922231154617  11.125710294666277  4.959996   -0.5525906682014465  0.013265546   0.32571775   -0.4314103126525879  2.025267   0.09922013320288019  -0.5235132378898534  -0.6965451669594975  -0.47005711802026073   -1.0620990991592407  -0.1971900761127472  0.14263589680194855  0           0         0              0.014538106659870565  61.0435431903257     12.004715919509358  29.34133874813846   250.46307071631102  68.78474779389899   0        -0.3710511028766632  0.32548731676493986  -1.074652075767517   3507.9854  -27.746013324103355  5.661607360839843   -230.36080513000488  17.426230163574218\n",
       "1        8.955413818359375  0.039958495646715164  -0.3540340065956116  -0.7935190200805664  -6.078382777325507  0.0      19.17772626957188   -0.47136881947517395  10.241194      11.348089        9.244259         24.91742699976654   11.265444763667034  4.982851   -0.5525906682014465  0.0110427225  0.3004559    -0.4314103126525879  2.025267   0.09415126050247345  -0.5258482940785928  -0.6950245078461663  -0.4641197022058473    -1.0620990991592407  -0.1971900761127472  0.14263589680194855  0           1         0              0.014603425723734725  60.90639734491615    12.13210424766943   28.850194949269017  250.81175453104717  68.47708331715039   0        -0.3710511028766632  0.3001993465042324   -1.074652075767517   3470.0093  -28.69150289866353   5.927043392012581   -228.8661687232393   15.629805070899277\n",
       "2        8.955413818359375  0.039958495646715164  -0.3540340065956116  -0.7935190200805664  -5.138299267849358  0.0      19.185273899511152  -0.47136881947517395  11.107061      12.355882        10.057264        25.92187778271555   11.775691439163865  5.0564485  -0.5525906682014465  0.005601731   0.21558467   -0.4314103126525879  2.025267   0.10530709674812792  -0.5240214830221088  -0.6986598635487486  -0.4739374166393549    -1.0620990991592407  -0.1971900761127472  0.14263589680194855  0           1         0              0.01455275507266425   60.501423571082206   12.612619399096845  30.03865872017884   250.22797440201435  68.71551091232134   0        -0.3710511028766632  0.21539068894935812  -1.074652075767517   3317.9675  -29.111106621620536  6.134445883760534   -231.19801069173772  18.12615024659716\n",
       "3        8.955413818359375  0.039958495646715164  -0.3540340065956116  -0.7935190200805664  -5.524790577991773  0.0      19.207804068460238  -0.47136881947517395  11.925058      13.38647         10.810073        25.21116836639392   11.783731726053816  5.112998   -0.5525906682014465  0.003062184   0.16261049   -0.4314103126525879  2.025267   0.10019201694127879  -0.5222007247094822  -0.6925051358329714  -0.4657340512853823    -1.0620990991592407  -0.1971900761127472  0.14263589680194855  0           1         0              0.014402543191843609  61.494482012630804   12.828645228710391  29.57503067357209   250.82704446121193  69.432181988964     0        -0.3710511028766632  0.16261048971195396  -1.074652075767517   3159.8638  -29.19541659074254   6.939285760018809   -231.39132574926623  17.400082231397555\n",
       "4        8.955413818359375  0.039958495646715164  -0.3540340065956116  -0.7935190200805664  -6.04862223860699   0.0      19.190335038839063  -0.47136881947517395  5.3339996      5.643775         4.856216         25.251887393526133  11.057931890034865  4.6138034  -0.5525906682014465  0.55209434    0.84384394   -0.4314103126525879  2.025267   0.09358150080456794  -0.5262251544833458  -0.696352107848041   -0.4655650783577135    -1.0620990991592407  -0.1971900761127472  0.14263589680194855  0           1         0              0.014518875869908207  61.13758569650298    11.948107439766392  29.382339057002177  250.4271112763156   68.87585574531965   0        -0.3710511028766632  0.8437795505866239   -1.074652075767517   5751.3896  -28.338640849684552  5.660935252278124   -230.55651408402534  15.545731299267977\n",
       "...      ...                ...                   ...                  ...                  ...                 ...      ...                 ...                   ...            ...              ...              ...                 ...                 ...        ...                  ...           ...          ...                  ...        ...                  ...                  ...                  ...                    ...                  ...                  ...                  ...         ...       ...            ...                   ...                  ...                 ...                 ...                 ...                 ...      ...                  ...                  ...                  ...        ...                  ...                 ...                  ...\n",
       "775,859  9.305075645446777  -0.2378266155719757   -1.3668785095214844  0.2941742241382599   70.67111612946258   0.0      18.90170756905462   -0.8195078372955322   11.241103      12.384796        10.232504        38.41318715785056   141.6879639548714   5.1169367  -1.1140830516815186  0.004501903   0.17917392   -1.0573344230651855  1.4649662  0.4807902597717601   -1.016093702313822   0.8958097391103346   -0.034466660623133694  -0.6839846968650818  -0.5307199358940125  -0.5255457162857056  9999        1         0              0.01658282380010515   -37.07510104577422   29.29279854454534   37.468174640835166  143.29136458579325  60.30336039593324   0        -1.154412031173706   0.17931102772855806  -0.8922590613365173  3407.4797  -199.0442694964203   30.623997868772303  -350.5618067151211   -15.979271128067806\n",
       "775,860  9.305075645446777  -0.2378266155719757   -1.3668785095214844  0.2941742241382599   70.91289076868368   0.0      18.90273659220677   -0.8195078372955322   12.456706      13.928801        11.343059        38.48872288187365   141.27209861703662  5.209868   -1.1140830516815186  0.0018179495  0.123802505  -1.0573344230651855  1.4649662  0.4852741817559974   -1.0072602674869668  0.8835920513484223   -0.040653391336381184  -0.6839846968650818  -0.5307199358940125  -0.5255457162857056  9999        1         0              0.01657496734888373   -36.8403994949178    29.544191996008777  37.54822415752705   143.9932339658371   60.331943885690166  0        -1.154412031173706   0.12392672176311978  -0.8922590613365173  3140.5276  -200.98664293116417  32.01265661986065   -349.60610696104965  -16.451533225671504\n",
       "775,861  9.305075645446777  -0.2378266155719757   -1.3668785095214844  0.2941742241382599   70.43729673551601   0.0      18.926576412045645  -0.8195078372955322   8.628792       9.432074         7.774683         38.80153334589538   141.74174016198222  4.847518   -1.1140830516815186  0.03736311    0.4449833    -1.0573344230651855  1.4649662  0.4830601169627003   -1.004163986909441   0.8812544399141216   -0.04013915622562014   -0.6839846968650818  -0.5307199358940125  -0.5255457162857056  9999        1         0              0.01639399195352484   -37.32736790647356   29.43525053969479   38.22282391671362   144.23127373657022  60.997956009426495  0        -1.154412031173706   0.4458544863014953   -0.8922590613365173  3939.6428  -201.30710826075654  34.12993031113594   -351.4345797893973   -17.287492042842214\n",
       "775,862  9.305075645446777  -0.2378266155719757   -1.3668785095214844  0.2941742241382599   69.95154967461595   0.0      18.902742093684775  -0.8195078372955322   11.216943      12.356519        10.209925        38.85761019322597   142.4229936107059   5.114827   -1.1140830516815186  0.004596257   0.18079981   -1.0573344230651855  1.4649662  0.4834331989252302   -1.0284630455598573  0.9084405468831181   -0.03515179884616021   -0.6839846968650818  -0.5307199358940125  -0.5255457162857056  9999        1         0              0.016574925355855228  -37.23410643245739   28.650325037689225  37.851579759027125  143.57897004035064  60.3320967383266    0        -1.154412031173706   0.18096256208800496  -0.8922590613365173  3412.8975  -196.617340354834    31.647861764959043  -352.1815579450567   -15.688656636764733\n",
       "775,863  9.305075645446777  -0.2378266155719757   -1.3668785095214844  0.2941742241382599   70.62985388732851   0.0      18.898967682504647  -0.8195078372955322   8.079974       8.781318         7.285962         38.34771367577185   141.79694022650438  4.794572   -1.1140830516815186  0.057495065   0.49785998   -1.0573344230651855  1.4649662  0.4752583711275395   -1.0141450542323103  0.8965126335850067   -0.03339506670856618   -0.6839846968650818  -0.5307199358940125  -0.5255457162857056  9999        1         0              0.016603760622474414  -37.117507118691734  29.211807713004752  37.36697738979725   142.9913363019243   60.22731974625232   0        -1.154412031173706   0.4980831631266951   -0.8922590613365173  4139.4316  -199.57078472808138  30.85048586790266   -350.0009219979422   -17.404691191613058"
      ]
     },
     "execution_count": 3,
     "metadata": {},
     "output_type": "execute_result"
    },
    {
     "name": "stdout",
     "output_type": "stream",
     "text": [
      "Exported the following quantities from /home/athob/pypi_sand_box/py-ananke/py-Galaxia-ananke/jupyter/survey_6236af6.sim_69732b6.0.ebf to /home/athob/pypi_sand_box/py-ananke/py-Galaxia-ananke/jupyter/survey_6236af6.sim_69732b6.0.h5 for partition 0\n",
      "['age', 'alpha', 'calcium', 'carbon', 'dform', 'dmod', 'feh', 'grav', 'helium', 'lsst_g', 'lsst_i', 'lsst_r', 'lsst_u', 'lsst_y', 'lsst_z', 'lum', 'mact', 'magnesium', 'mtip', 'neon', 'nitrogen', 'oxygen', 'parentid', 'partid', 'partitionid', 'px', 'py', 'pz', 'rad', 'satid', 'silicon', 'smass', 'sulphur', 'teff', 'vx', 'vy', 'vz']\n",
      "Exported the following quantities to /home/athob/pypi_sand_box/py-ananke/py-Galaxia-ananke/jupyter/survey_6236af6.sim_69732b6.0.h5\n",
      "['mub', 'glat', 'vr', 'glon', 'mul']\n",
      "Overwritten the following quantities to /home/athob/pypi_sand_box/py-ananke/py-Galaxia-ananke/jupyter/survey_6236af6.sim_69732b6.0.h5\n",
      "['rad']\n",
      "Exported the following quantities to /home/athob/pypi_sand_box/py-ananke/py-Galaxia-ananke/jupyter/survey_6236af6.sim_69732b6.0.h5\n",
      "['ra', 'mudec', 'mura', 'dec']\n",
      "Exported the following quantities to /home/athob/pypi_sand_box/py-ananke/py-Galaxia-ananke/jupyter/survey_6236af6.sim_69732b6.0.h5\n",
      "['pi']\n",
      "Overwritten the following quantities to /home/athob/pypi_sand_box/py-ananke/py-Galaxia-ananke/jupyter/survey_6236af6.sim_69732b6.0.h5\n",
      "['teff', 'lum']\n"
     ]
    },
    {
     "data": {
      "text/html": [
       "<pre style=\"white-space:pre;overflow-x:auto;line-height:normal;font-family:Menlo,'DejaVu Sans Mono',consolas,'Courier New',monospace\"><span style=\"color: #7fbfbf; text-decoration-color: #7fbfbf\">[06/17/25 23:35:48] </span><span style=\"color: #808000; text-decoration-color: #808000\">WARNING </span> could not close memmap for column                                   <a href=\"file:///home/athob/miniconda3/envs/test_pypi/lib/python3.10/site-packages/vaex/dataset_mmap.py\" target=\"_blank\"><span style=\"color: #7f7f7f; text-decoration-color: #7f7f7f\">dataset_mmap.py</span></a><span style=\"color: #7f7f7f; text-decoration-color: #7f7f7f\">:</span><a href=\"file:///home/athob/miniconda3/envs/test_pypi/lib/python3.10/site-packages/vaex/dataset_mmap.py#94\" target=\"_blank\"><span style=\"color: #7f7f7f; text-decoration-color: #7f7f7f\">94</span></a>\n",
       "<span style=\"color: #7fbfbf; text-decoration-color: #7fbfbf\">                    </span>         <span style=\"color: #800080; text-decoration-color: #800080\">/home/athob/pypi_sand_box/py-ananke/py-Galaxia-ananke/jupyter/</span><span style=\"color: #ff00ff; text-decoration-color: #ff00ff\">surve</span> <span style=\"color: #7f7f7f; text-decoration-color: #7f7f7f\">                  </span>\n",
       "<span style=\"color: #7fbfbf; text-decoration-color: #7fbfbf\">                    </span>         <span style=\"color: #ff00ff; text-decoration-color: #ff00ff\">y_6236af6.sim_69732b6.0.h5</span>                                          <span style=\"color: #7f7f7f; text-decoration-color: #7f7f7f\">                  </span>\n",
       "</pre>\n"
      ],
      "text/plain": [
       "\u001b[2;36m[06/17/25 23:35:48]\u001b[0m\u001b[2;36m \u001b[0m\u001b[33mWARNING \u001b[0m could not close memmap for column                                   \u001b]8;id=738722;file:///home/athob/miniconda3/envs/test_pypi/lib/python3.10/site-packages/vaex/dataset_mmap.py\u001b\\\u001b[2mdataset_mmap.py\u001b[0m\u001b]8;;\u001b\\\u001b[2m:\u001b[0m\u001b]8;id=59099;file:///home/athob/miniconda3/envs/test_pypi/lib/python3.10/site-packages/vaex/dataset_mmap.py#94\u001b\\\u001b[2m94\u001b[0m\u001b]8;;\u001b\\\n",
       "\u001b[2;36m                    \u001b[0m         \u001b[35m/home/athob/pypi_sand_box/py-ananke/py-Galaxia-ananke/jupyter/\u001b[0m\u001b[95msurve\u001b[0m \u001b[2m                  \u001b[0m\n",
       "\u001b[2;36m                    \u001b[0m         \u001b[95my_6236af6.sim_69732b6.0.h5\u001b[0m                                          \u001b[2m                  \u001b[0m\n"
      ]
     },
     "metadata": {},
     "output_type": "display_data"
    }
   ],
   "source": [
    "output = galaxia_ananke.make_survey_from_particles(p, rho_pos, rho_vel, fsample=0.01, caching=True)#, simname='sim', surveyname='survey', fsample=1, ngb=64, **kwargs):\n",
    "output"
   ]
  },
  {
   "attachments": {},
   "cell_type": "markdown",
   "id": "5744efd0",
   "metadata": {},
   "source": [
    "Using LSST photometric system"
   ]
  },
  {
   "cell_type": "code",
   "execution_count": 4,
   "id": "3e04243e",
   "metadata": {},
   "outputs": [
    {
     "name": "stdout",
     "output_type": "stream",
     "text": [
      "Executing JOB 1/1 = /home/athob/miniconda3/envs/test_pypi/.cache/galaxia_ananke/bin/galaxia -r --hdim=6 --nfile=sim_69732b6 --ngen=0 /home/athob/pypi_sand_box/py-ananke/py-Galaxia-ananke/jupyter/survey_6236af6_params\n",
      "JOB 1/1 | CODEDATAPATH=/home/athob/miniconda3/envs/test_pypi/.cache/galaxia_ananke/GalaxiaData/\n",
      "JOB 1/1 | Reading Parameter file-             /home/athob/pypi_sand_box/py-ananke/py-Galaxia-ananke/jupyter/survey_6236af6_params\n",
      "JOB 1/1 | --------------------------------------------------------\n",
      "JOB 1/1 | outputFile               survey_6236af6          \n",
      "JOB 1/1 | outputDir                /home/athob/pypi_sand_box/py-ananke/py-Galaxia-ananke/jupyter\n",
      "JOB 1/1 | photoCateg               padova                  \n",
      "JOB 1/1 | photoSys                 LSST                    \n",
      "JOB 1/1 | magcolorNames            r,g-r                   \n",
      "JOB 1/1 | appMagLimits[0]          -1000                   \n",
      "JOB 1/1 | appMagLimits[1]          1000                    \n",
      "JOB 1/1 | absMagLimits[0]          -1000                   \n",
      "JOB 1/1 | absMagLimits[1]          20                      \n",
      "JOB 1/1 | colorLimits[0]           -1000                   \n",
      "JOB 1/1 | colorLimits[1]           1000                    \n",
      "JOB 1/1 | geometryOption           0                       \n",
      "JOB 1/1 | surveyArea               207.455                 \n",
      "JOB 1/1 | fSample                  0.01                    \n",
      "JOB 1/1 | popID                    10                      \n",
      "JOB 1/1 | warpFlareOn              0                       \n",
      "JOB 1/1 | longitude                76.273                  \n",
      "JOB 1/1 | latitude                 13.4725                 \n",
      "JOB 1/1 | starType                 0                       \n",
      "JOB 1/1 | photoError               0                       \n",
      "JOB 1/1 | seed                     17052                   \n",
      "JOB 1/1 | r_max                    500                     \n",
      "JOB 1/1 | r_min                    0                       \n",
      "JOB 1/1 | nres                     64                      \n",
      "JOB 1/1 | nstart                   0                       \n",
      "JOB 1/1 | rSun[0]                  -8.121973366106948      \n",
      "JOB 1/1 | rSun[1]                  -1.4729444519452402e-11 \n",
      "JOB 1/1 | rSun[2]                  0.020800000030482345    \n",
      "JOB 1/1 | vSun[0]                  12.9                    \n",
      "JOB 1/1 | vSun[1]                  245.6                   \n",
      "JOB 1/1 | vSun[2]                  7.78                    \n",
      "JOB 1/1 | --------------------------------------------------------\n",
      "JOB 1/1 | Reading Halo Sat File=/home/athob/miniconda3/envs/test_pypi/.cache/galaxia_ananke/GalaxiaData/nbody1/filenames/sim_69732b6.txt\n",
      "JOB 1/1 | nbody1/sim_69732b6/\n",
      "JOB 1/1 | \n",
      "JOB 1/1 | \t1\t1\n",
      "JOB 1/1 | \n",
      "JOB 1/1 | path nbody1/sim_69732b6/ sats 1 x[0] 1\n",
      "JOB 1/1 | Halo 1 Sat 0 fname nbody1/sim_69732b6/sim_69732b6.ebf 0\n",
      "JOB 1/1 | nbody1/sim_69732b6/sim_69732b6.ebf 0\n",
      "JOB 1/1 | No of Satellites   =1\n",
      "JOB 1/1 | Generating catalog. Max allowed stars is 18446744073709551615\n",
      "JOB 1/1 | Source numbering will start at 0\n",
      "JOB 1/1 | Writing to /home/athob/pypi_sand_box/py-ananke/py-Galaxia-ananke/jupyter/survey_6236af6.sim_69732b6.0.ebf\n",
      "JOB 1/1 | Using geometry:                     All Sky\n",
      "JOB 1/1 | setting center to -8.12197 -1.47294e-11 0.0208 12.9 245.6 7.78\n",
      "JOB 1/1 | Reading Isochrones from dir-        /home/athob/miniconda3/envs/test_pypi/.cache/galaxia_ananke/GalaxiaData/Isochrones/padova/LSST\n",
      "JOB 1/1 | Isochrone Grid Size:                (Age bins=71,Feh bins=34,Alpha bins=1)\n",
      "JOB 1/1 | Time Isochrone Reading              2.74902     \n",
      "JOB 1/1 | ------------------------------\n",
      "JOB 1/1 | nbody1/sim_69732b6/sim_69732b6.ebf  Sat No=0\n",
      "JOB 1/1 | Particles=10000\n",
      "JOB 1/1 | Satellite Info\n",
      "JOB 1/1 | Particles=10000 Mass=5.49088e+07 0.379706\n",
      "JOB 1/1 | Total Stars=776608 accepted=776606 rejected=2\n",
      "JOB 1/1 | -----------Done---------------\n",
      "JOB 1/1 | Total stars written                 776606                  \n",
      "JOB 1/1 | 31\n",
      "JOB 1/1 | File written-                       /home/athob/pypi_sand_box/py-ananke/py-Galaxia-ananke/jupyter/survey_6236af6.sim_69732b6.0.ebf\n",
      "JOB 1/1 | Calculating magnitudes in LSST system................\n",
      "JOB 1/1 | initializing isochrone data\n",
      "JOB 1/1 | interpolating on isochrone tables\n",
      "JOB 1/1 | Total Time=                         5.251       \n",
      "Running convert_cartesian_to_galactic post-processing pipeline\n",
      "Running convert_galactic_to_icrs post-processing pipeline\n",
      "Running last_conversions post-processing pipeline\n"
     ]
    },
    {
     "data": {
      "text/html": [
       "<style>.vaex-description pre {\n",
       "          max-width : 450px;\n",
       "          white-space : nowrap;\n",
       "          overflow : hidden;\n",
       "          text-overflow: ellipsis;\n",
       "        }\n",
       "\n",
       "        .vex-description pre:hover {\n",
       "          max-width : initial;\n",
       "          white-space: pre;\n",
       "        }</style>"
      ],
      "text/plain": [
       "<IPython.core.display.HTML object>"
      ]
     },
     "metadata": {},
     "output_type": "display_data"
    },
    {
     "data": {
      "text/html": [
       "<table>\n",
       "<thead>\n",
       "<tr><th>#                                  </th><th>age              </th><th>alpha               </th><th>calcium            </th><th>carbon             </th><th>dec               </th><th>dform  </th><th>dmod              </th><th>feh                 </th><th>glat              </th><th>glon              </th><th>grav     </th><th>helium             </th><th>lsst_g    </th><th>lsst_i   </th><th>lsst_r   </th><th>lsst_u   </th><th>lsst_y   </th><th>lsst_z   </th><th>lum         </th><th>mact      </th><th>magnesium          </th><th>mtip     </th><th>mub                </th><th>mudec              </th><th>mul                </th><th>mura                 </th><th>neon               </th><th>nitrogen           </th><th>oxygen             </th><th>parentid  </th><th>partid  </th><th>partitionid  </th><th>pi                  </th><th>px                 </th><th>py                </th><th>pz                </th><th>ra                </th><th>rad               </th><th>satid  </th><th>silicon            </th><th>smass              </th><th>sulphur            </th><th>teff     </th><th>vr                 </th><th>vx                </th><th>vy                 </th><th>vz                 </th></tr>\n",
       "</thead>\n",
       "<tbody>\n",
       "<tr><td><i style='opacity: 0.6'>0</i>      </td><td>8.955413818359375</td><td>0.039958495646715164</td><td>-0.3540340065956116</td><td>-0.7935190200805664</td><td>-5.998792887017205</td><td>0.0    </td><td>19.18746074617149 </td><td>-0.47136881947517395</td><td>25.249922231154617</td><td>11.125710294666277</td><td>4.957723 </td><td>-0.5525906682014465</td><td>11.82129  </td><td>9.553138 </td><td>10.4297  </td><td>14.951512</td><td>8.930664 </td><td>9.1264   </td><td>0.012646457 </td><td>0.32465628</td><td>-0.4314103126525879</td><td>2.0520527</td><td>0.09922013320288019</td><td>-0.5235132378898534</td><td>-0.6965451669594975</td><td>-0.47005711802026073 </td><td>-1.0620990991592407</td><td>-0.1971900761127472</td><td>0.14263589680194855</td><td>0         </td><td>0       </td><td>0            </td><td>0.014538106659870565</td><td>61.0435431903257   </td><td>12.004715919509358</td><td>29.34133874813846 </td><td>250.46307071631102</td><td>68.78474779389899 </td><td>0      </td><td>-0.3710511028766632</td><td>0.3258619207861875 </td><td>-1.074652075767517 </td><td>3463.1602</td><td>-27.746013324103355</td><td>5.661607360839843 </td><td>-230.36080513000488</td><td>17.426230163574218 </td></tr>\n",
       "<tr><td><i style='opacity: 0.6'>1</i>      </td><td>8.955413818359375</td><td>0.039958495646715164</td><td>-0.3540340065956116</td><td>-0.7935190200805664</td><td>-6.078382777325507</td><td>0.0    </td><td>19.17772626957188 </td><td>-0.47136881947517395</td><td>24.91742699976654 </td><td>11.265444763667034</td><td>4.9810724</td><td>-0.5525906682014465</td><td>12.07973  </td><td>9.765523 </td><td>10.677893</td><td>15.244513</td><td>9.121066 </td><td>9.321541 </td><td>0.010579075 </td><td>0.29959986</td><td>-0.4314103126525879</td><td>2.0520527</td><td>0.09415126050247345</td><td>-0.5258482940785928</td><td>-0.6950245078461663</td><td>-0.4641197022058473  </td><td>-1.0620990991592407</td><td>-0.1971900761127472</td><td>0.14263589680194855</td><td>0         </td><td>1       </td><td>0            </td><td>0.014603425723734725</td><td>60.90639734491615  </td><td>12.13210424766943 </td><td>28.850194949269017</td><td>250.81175453104717</td><td>68.47708331715039 </td><td>0      </td><td>-0.3710511028766632</td><td>0.30051895807873963</td><td>-1.074652075767517 </td><td>3425.739 </td><td>-28.69150289866353 </td><td>5.927043392012581 </td><td>-228.8661687232393 </td><td>15.629805070899277 </td></tr>\n",
       "<tr><td><i style='opacity: 0.6'>2</i>      </td><td>8.955413818359375</td><td>0.039958495646715164</td><td>-0.3540340065956116</td><td>-0.7935190200805664</td><td>-5.138299267849358</td><td>0.0    </td><td>19.185273899511152</td><td>-0.47136881947517395</td><td>25.92187778271555 </td><td>11.775691439163865</td><td>5.0518117</td><td>-0.5525906682014465</td><td>13.122309 </td><td>10.588921</td><td>11.674107</td><td>16.476667</td><td>9.846663 </td><td>10.071106</td><td>0.005275812 </td><td>0.21477202</td><td>-0.4314103126525879</td><td>2.0520527</td><td>0.10530709674812792</td><td>-0.5240214830221088</td><td>-0.6986598635487486</td><td>-0.4739374166393549  </td><td>-1.0620990991592407</td><td>-0.1971900761127472</td><td>0.14263589680194855</td><td>0         </td><td>1       </td><td>0            </td><td>0.01455275507266425 </td><td>60.501423571082206 </td><td>12.612619399096845</td><td>30.03865872017884 </td><td>250.22797440201435</td><td>68.71551091232134 </td><td>0      </td><td>-0.3710511028766632</td><td>0.21554831077590633</td><td>-1.074652075767517 </td><td>3264.037 </td><td>-29.111106621620536</td><td>6.134445883760534 </td><td>-231.19801069173772</td><td>18.12615024659716  </td></tr>\n",
       "<tr><td><i style='opacity: 0.6'>3</i>      </td><td>8.955413818359375</td><td>0.039958495646715164</td><td>-0.3540340065956116</td><td>-0.7935190200805664</td><td>-5.524790577991773</td><td>0.0    </td><td>19.207804068460238</td><td>-0.47136881947517395</td><td>25.21116836639392 </td><td>11.783731726053816</td><td>5.1082735</td><td>-0.5525906682014465</td><td>14.20013  </td><td>11.36916 </td><td>12.70065 </td><td>17.833715</td><td>10.504472</td><td>10.759428</td><td>0.0028756857</td><td>0.16199727</td><td>-0.4314103126525879</td><td>2.0520527</td><td>0.10019201694127879</td><td>-0.5222007247094822</td><td>-0.6925051358329714</td><td>-0.4657340512853823  </td><td>-1.0620990991592407</td><td>-0.1971900761127472</td><td>0.14263589680194855</td><td>0         </td><td>1       </td><td>0            </td><td>0.014402543191843609</td><td>61.494482012630804 </td><td>12.828645228710391</td><td>29.57503067357209 </td><td>250.82704446121193</td><td>69.432181988964   </td><td>0      </td><td>-0.3710511028766632</td><td>0.16268769161294605</td><td>-1.074652075767517 </td><td>3104.7427</td><td>-29.19541659074254 </td><td>6.939285760018809 </td><td>-231.39132574926623</td><td>17.400082231397555 </td></tr>\n",
       "<tr><td><i style='opacity: 0.6'>4</i>      </td><td>8.955413818359375</td><td>0.039958495646715164</td><td>-0.3540340065956116</td><td>-0.7935190200805664</td><td>-6.04862223860699 </td><td>0.0    </td><td>19.190335038839063</td><td>-0.47136881947517395</td><td>25.251887393526133</td><td>11.057931890034865</td><td>4.6106825</td><td>-0.5525906682014465</td><td>5.8098636 </td><td>5.250584 </td><td>5.3779154</td><td>6.9879026</td><td>5.2072186</td><td>5.221788 </td><td>0.52896935  </td><td>0.84699625</td><td>-0.4314103126525879</td><td>2.0520527</td><td>0.09358150080456794</td><td>-0.5262251544833458</td><td>-0.696352107848041 </td><td>-0.4655650783577135  </td><td>-1.0620990991592407</td><td>-0.1971900761127472</td><td>0.14263589680194855</td><td>0         </td><td>1       </td><td>0            </td><td>0.014518875869908207</td><td>61.13758569650298  </td><td>11.948107439766392</td><td>29.382339057002177</td><td>250.4271112763156 </td><td>68.87585574531965 </td><td>0      </td><td>-0.3710511028766632</td><td>0.846996270255526  </td><td>-1.074652075767517 </td><td>5678.1475</td><td>-28.338640849684552</td><td>5.660935252278124 </td><td>-230.55651408402534</td><td>15.545731299267977 </td></tr>\n",
       "<tr><td>...                                </td><td>...              </td><td>...                 </td><td>...                </td><td>...                </td><td>...               </td><td>...    </td><td>...               </td><td>...                 </td><td>...               </td><td>...               </td><td>...      </td><td>...                </td><td>...       </td><td>...      </td><td>...      </td><td>...      </td><td>...      </td><td>...      </td><td>...         </td><td>...       </td><td>...                </td><td>...      </td><td>...                </td><td>...                </td><td>...                </td><td>...                  </td><td>...                </td><td>...                </td><td>...                </td><td>...       </td><td>...     </td><td>...          </td><td>...                 </td><td>...                </td><td>...               </td><td>...               </td><td>...               </td><td>...               </td><td>...    </td><td>...                </td><td>...                </td><td>...                </td><td>...      </td><td>...                </td><td>...               </td><td>...                </td><td>...                </td></tr>\n",
       "<tr><td><i style='opacity: 0.6'>776,601</i></td><td>9.305075645446777</td><td>-0.2378266155719757 </td><td>-1.3668785095214844</td><td>0.2941742241382599 </td><td>70.25534168446393 </td><td>0.0    </td><td>18.92730214776614 </td><td>-0.8195078372955322 </td><td>38.249015661843394</td><td>142.41364840378134</td><td>5.163577 </td><td>-1.1140830516815186</td><td>14.148937 </td><td>11.437732</td><td>12.593777</td><td>17.960428</td><td>10.69437 </td><td>10.917555</td><td>0.0024937983</td><td>0.14125384</td><td>-1.0573344230651855</td><td>1.4815284</td><td>0.4627050092013081 </td><td>-1.004273558058331 </td><td>0.8915375507103842 </td><td>-0.019228896263504325</td><td>-0.6839846968650818</td><td>-0.5307199358940125</td><td>-0.5255457162857056</td><td>9999      </td><td>1       </td><td>0            </td><td>0.016388513773123507</td><td>-37.972999270206905</td><td>29.228738757558133</td><td>37.7752654139134  </td><td>142.02917961062477</td><td>61.0183457660425  </td><td>0      </td><td>-1.154412031173706 </td><td>0.14149260626118568</td><td>-0.8922590613365173</td><td>3200.679 </td><td>-198.35939236832257</td><td>31.805647070524113</td><td>-349.9118024502989 </td><td>-17.69214609469543 </td></tr>\n",
       "<tr><td><i style='opacity: 0.6'>776,602</i></td><td>9.305075645446777</td><td>-0.2378266155719757 </td><td>-1.3668785095214844</td><td>0.2941742241382599 </td><td>70.42345719198292 </td><td>0.0    </td><td>18.910017270937338</td><td>-0.8195078372955322 </td><td>38.312051366567914</td><td>142.12491990973598</td><td>4.974049 </td><td>-1.1140830516815186</td><td>11.403774 </td><td>9.320927 </td><td>10.018207</td><td>14.507749</td><td>8.816019 </td><td>8.985688 </td><td>0.0143090105</td><td>0.31965846</td><td>-1.0573344230651855</td><td>1.4815284</td><td>0.4735758033727647 </td><td>-1.0163256300078776</td><td>0.8995899901010077 </td><td>-0.024867762649257275</td><td>-0.6839846968650818</td><td>-0.5307199358940125</td><td>-0.5255457162857056</td><td>9999      </td><td>1       </td><td>0            </td><td>0.01651948659303042 </td><td>-37.492765818090014</td><td>29.161141363885314</td><td>37.52804794118947 </td><td>142.51829513280617</td><td>60.534568938837396</td><td>0      </td><td>-1.154412031173706 </td><td>0.3199948774194941 </td><td>-0.8922590613365173</td><td>3623.1023</td><td>-200.75084787835402</td><td>32.3515169410781  </td><td>-352.20115437525635</td><td>-17.82215109291467 </td></tr>\n",
       "<tr><td><i style='opacity: 0.6'>776,603</i></td><td>9.305075645446777</td><td>-0.2378266155719757 </td><td>-1.3668785095214844</td><td>0.2941742241382599 </td><td>70.41497901395482 </td><td>0.0    </td><td>18.903181025346917</td><td>-0.8195078372955322 </td><td>38.51546013539259 </td><td>141.99030550776956</td><td>5.14582  </td><td>-1.1140830516815186</td><td>13.830839 </td><td>11.215312</td><td>12.295405</td><td>17.533022</td><td>10.506008</td><td>10.72185 </td><td>0.0029838646</td><td>0.1518549 </td><td>-1.0573344230651855</td><td>1.4815284</td><td>0.47287138631805625</td><td>-1.017543692153953 </td><td>0.9018585022401228 </td><td>-0.03950874104370056 </td><td>-0.6839846968650818</td><td>-0.5307199358940125</td><td>-0.5255457162857056</td><td>9999      </td><td>1       </td><td>0            </td><td>0.016571575313616672</td><td>-37.201637662126345</td><td>29.07524291251492 </td><td>37.57794739211687 </td><td>143.20152268905042</td><td>60.34429322952246 </td><td>0      </td><td>-1.154412031173706 </td><td>0.15207528197126546</td><td>-0.8922590613365173</td><td>3252.9087</td><td>-198.82576672334218</td><td>30.07770668939448 </td><td>-350.93963510477994</td><td>-17.973448028517954</td></tr>\n",
       "<tr><td><i style='opacity: 0.6'>776,604</i></td><td>9.305075645446777</td><td>-0.2378266155719757 </td><td>-1.3668785095214844</td><td>0.2941742241382599 </td><td>71.06336857652018 </td><td>0.0    </td><td>18.922451101314643</td><td>-0.8195078372955322 </td><td>38.26880155748916 </td><td>141.21613472022395</td><td>5.2413483</td><td>-1.1140830516815186</td><td>15.7446375</td><td>12.450538</td><td>14.106436</td><td>20.03769 </td><td>11.512014</td><td>11.7771  </td><td>0.0011476625</td><td>0.10921725</td><td>-1.0573344230651855</td><td>1.4815284</td><td>0.4784885526706837 </td><td>-1.0006817242759414</td><td>0.8796318218911511 </td><td>-0.03659950574200682 </td><td>-0.6839846968650818</td><td>-0.5307199358940125</td><td>-0.5255457162857056</td><td>9999      </td><td>1       </td><td>0            </td><td>0.016425166465596833</td><td>-37.26035001726871 </td><td>29.940818837371985</td><td>37.70747884354005 </td><td>143.4828211075703 </td><td>60.88218357448857 </td><td>0      </td><td>-1.154412031173706 </td><td>0.10933340808845429</td><td>-0.8922590613365173</td><td>2939.4915</td><td>-203.08036563838482</td><td>31.93824051127851 </td><td>-351.3422294171792 </td><td>-17.356557901999125</td></tr>\n",
       "<tr><td><i style='opacity: 0.6'>776,605</i></td><td>9.305075645446777</td><td>-0.2378266155719757 </td><td>-1.3668785095214844</td><td>0.2941742241382599 </td><td>70.38406309475442 </td><td>0.0    </td><td>18.93189850693899 </td><td>-0.8195078372955322 </td><td>38.678596014218584</td><td>141.91478201703276</td><td>4.4602547</td><td>-1.1140830516815186</td><td>4.5252266 </td><td>4.262131 </td><td>4.302835 </td><td>5.378302 </td><td>4.305421 </td><td>4.285506 </td><td>1.4932839   </td><td>0.97874534</td><td>-1.0573344230651855</td><td>1.4815284</td><td>0.47464424129308724</td><td>-1.006706956219863 </td><td>0.888721764951177  </td><td>-0.04067721216065512 </td><td>-0.6839846968650818</td><td>-0.5307199358940125</td><td>-0.5255457162857056</td><td>9999      </td><td>1       </td><td>0            </td><td>0.01635386086729578 </td><td>-37.57253671534393 </td><td>29.444981919293294</td><td>38.21428299893343 </td><td>143.7104052706489 </td><td>61.147640188121315</td><td>0      </td><td>-1.154412031173706 </td><td>0.9792776048621659 </td><td>-0.8922590613365173</td><td>6509.6606</td><td>-198.75492120774646</td><td>30.899456208643468</td><td>-351.51106597985967</td><td>-16.804880849281137</td></tr>\n",
       "</tbody>\n",
       "</table>"
      ],
      "text/plain": [
       "#        age                alpha                 calcium              carbon               dec                 dform    dmod                feh                   glat                glon                grav       helium               lsst_g      lsst_i     lsst_r     lsst_u     lsst_y     lsst_z     lum           mact        magnesium            mtip       mub                  mudec                mul                  mura                   neon                 nitrogen             oxygen               parentid    partid    partitionid    pi                    px                   py                  pz                  ra                  rad                 satid    silicon              smass                sulphur              teff       vr                   vx                  vy                   vz\n",
       "0        8.955413818359375  0.039958495646715164  -0.3540340065956116  -0.7935190200805664  -5.998792887017205  0.0      19.18746074617149   -0.47136881947517395  25.249922231154617  11.125710294666277  4.957723   -0.5525906682014465  11.82129    9.553138   10.4297    14.951512  8.930664   9.1264     0.012646457   0.32465628  -0.4314103126525879  2.0520527  0.09922013320288019  -0.5235132378898534  -0.6965451669594975  -0.47005711802026073   -1.0620990991592407  -0.1971900761127472  0.14263589680194855  0           0         0              0.014538106659870565  61.0435431903257     12.004715919509358  29.34133874813846   250.46307071631102  68.78474779389899   0        -0.3710511028766632  0.3258619207861875   -1.074652075767517   3463.1602  -27.746013324103355  5.661607360839843   -230.36080513000488  17.426230163574218\n",
       "1        8.955413818359375  0.039958495646715164  -0.3540340065956116  -0.7935190200805664  -6.078382777325507  0.0      19.17772626957188   -0.47136881947517395  24.91742699976654   11.265444763667034  4.9810724  -0.5525906682014465  12.07973    9.765523   10.677893  15.244513  9.121066   9.321541   0.010579075   0.29959986  -0.4314103126525879  2.0520527  0.09415126050247345  -0.5258482940785928  -0.6950245078461663  -0.4641197022058473    -1.0620990991592407  -0.1971900761127472  0.14263589680194855  0           1         0              0.014603425723734725  60.90639734491615    12.13210424766943   28.850194949269017  250.81175453104717  68.47708331715039   0        -0.3710511028766632  0.30051895807873963  -1.074652075767517   3425.739   -28.69150289866353   5.927043392012581   -228.8661687232393   15.629805070899277\n",
       "2        8.955413818359375  0.039958495646715164  -0.3540340065956116  -0.7935190200805664  -5.138299267849358  0.0      19.185273899511152  -0.47136881947517395  25.92187778271555   11.775691439163865  5.0518117  -0.5525906682014465  13.122309   10.588921  11.674107  16.476667  9.846663   10.071106  0.005275812   0.21477202  -0.4314103126525879  2.0520527  0.10530709674812792  -0.5240214830221088  -0.6986598635487486  -0.4739374166393549    -1.0620990991592407  -0.1971900761127472  0.14263589680194855  0           1         0              0.01455275507266425   60.501423571082206   12.612619399096845  30.03865872017884   250.22797440201435  68.71551091232134   0        -0.3710511028766632  0.21554831077590633  -1.074652075767517   3264.037   -29.111106621620536  6.134445883760534   -231.19801069173772  18.12615024659716\n",
       "3        8.955413818359375  0.039958495646715164  -0.3540340065956116  -0.7935190200805664  -5.524790577991773  0.0      19.207804068460238  -0.47136881947517395  25.21116836639392   11.783731726053816  5.1082735  -0.5525906682014465  14.20013    11.36916   12.70065   17.833715  10.504472  10.759428  0.0028756857  0.16199727  -0.4314103126525879  2.0520527  0.10019201694127879  -0.5222007247094822  -0.6925051358329714  -0.4657340512853823    -1.0620990991592407  -0.1971900761127472  0.14263589680194855  0           1         0              0.014402543191843609  61.494482012630804   12.828645228710391  29.57503067357209   250.82704446121193  69.432181988964     0        -0.3710511028766632  0.16268769161294605  -1.074652075767517   3104.7427  -29.19541659074254   6.939285760018809   -231.39132574926623  17.400082231397555\n",
       "4        8.955413818359375  0.039958495646715164  -0.3540340065956116  -0.7935190200805664  -6.04862223860699   0.0      19.190335038839063  -0.47136881947517395  25.251887393526133  11.057931890034865  4.6106825  -0.5525906682014465  5.8098636   5.250584   5.3779154  6.9879026  5.2072186  5.221788   0.52896935    0.84699625  -0.4314103126525879  2.0520527  0.09358150080456794  -0.5262251544833458  -0.696352107848041   -0.4655650783577135    -1.0620990991592407  -0.1971900761127472  0.14263589680194855  0           1         0              0.014518875869908207  61.13758569650298    11.948107439766392  29.382339057002177  250.4271112763156   68.87585574531965   0        -0.3710511028766632  0.846996270255526    -1.074652075767517   5678.1475  -28.338640849684552  5.660935252278124   -230.55651408402534  15.545731299267977\n",
       "...      ...                ...                   ...                  ...                  ...                 ...      ...                 ...                   ...                 ...                 ...        ...                  ...         ...        ...        ...        ...        ...        ...           ...         ...                  ...        ...                  ...                  ...                  ...                    ...                  ...                  ...                  ...         ...       ...            ...                   ...                  ...                 ...                 ...                 ...                 ...      ...                  ...                  ...                  ...        ...                  ...                 ...                  ...\n",
       "776,601  9.305075645446777  -0.2378266155719757   -1.3668785095214844  0.2941742241382599   70.25534168446393   0.0      18.92730214776614   -0.8195078372955322   38.249015661843394  142.41364840378134  5.163577   -1.1140830516815186  14.148937   11.437732  12.593777  17.960428  10.69437   10.917555  0.0024937983  0.14125384  -1.0573344230651855  1.4815284  0.4627050092013081   -1.004273558058331   0.8915375507103842   -0.019228896263504325  -0.6839846968650818  -0.5307199358940125  -0.5255457162857056  9999        1         0              0.016388513773123507  -37.972999270206905  29.228738757558133  37.7752654139134    142.02917961062477  61.0183457660425    0        -1.154412031173706   0.14149260626118568  -0.8922590613365173  3200.679   -198.35939236832257  31.805647070524113  -349.9118024502989   -17.69214609469543\n",
       "776,602  9.305075645446777  -0.2378266155719757   -1.3668785095214844  0.2941742241382599   70.42345719198292   0.0      18.910017270937338  -0.8195078372955322   38.312051366567914  142.12491990973598  4.974049   -1.1140830516815186  11.403774   9.320927   10.018207  14.507749  8.816019   8.985688   0.0143090105  0.31965846  -1.0573344230651855  1.4815284  0.4735758033727647   -1.0163256300078776  0.8995899901010077   -0.024867762649257275  -0.6839846968650818  -0.5307199358940125  -0.5255457162857056  9999        1         0              0.01651948659303042   -37.492765818090014  29.161141363885314  37.52804794118947   142.51829513280617  60.534568938837396  0        -1.154412031173706   0.3199948774194941   -0.8922590613365173  3623.1023  -200.75084787835402  32.3515169410781    -352.20115437525635  -17.82215109291467\n",
       "776,603  9.305075645446777  -0.2378266155719757   -1.3668785095214844  0.2941742241382599   70.41497901395482   0.0      18.903181025346917  -0.8195078372955322   38.51546013539259   141.99030550776956  5.14582    -1.1140830516815186  13.830839   11.215312  12.295405  17.533022  10.506008  10.72185   0.0029838646  0.1518549   -1.0573344230651855  1.4815284  0.47287138631805625  -1.017543692153953   0.9018585022401228   -0.03950874104370056   -0.6839846968650818  -0.5307199358940125  -0.5255457162857056  9999        1         0              0.016571575313616672  -37.201637662126345  29.07524291251492   37.57794739211687   143.20152268905042  60.34429322952246   0        -1.154412031173706   0.15207528197126546  -0.8922590613365173  3252.9087  -198.82576672334218  30.07770668939448   -350.93963510477994  -17.973448028517954\n",
       "776,604  9.305075645446777  -0.2378266155719757   -1.3668785095214844  0.2941742241382599   71.06336857652018   0.0      18.922451101314643  -0.8195078372955322   38.26880155748916   141.21613472022395  5.2413483  -1.1140830516815186  15.7446375  12.450538  14.106436  20.03769   11.512014  11.7771    0.0011476625  0.10921725  -1.0573344230651855  1.4815284  0.4784885526706837   -1.0006817242759414  0.8796318218911511   -0.03659950574200682   -0.6839846968650818  -0.5307199358940125  -0.5255457162857056  9999        1         0              0.016425166465596833  -37.26035001726871   29.940818837371985  37.70747884354005   143.4828211075703   60.88218357448857   0        -1.154412031173706   0.10933340808845429  -0.8922590613365173  2939.4915  -203.08036563838482  31.93824051127851   -351.3422294171792   -17.356557901999125\n",
       "776,605  9.305075645446777  -0.2378266155719757   -1.3668785095214844  0.2941742241382599   70.38406309475442   0.0      18.93189850693899   -0.8195078372955322   38.678596014218584  141.91478201703276  4.4602547  -1.1140830516815186  4.5252266   4.262131   4.302835   5.378302   4.305421   4.285506   1.4932839     0.97874534  -1.0573344230651855  1.4815284  0.47464424129308724  -1.006706956219863   0.888721764951177    -0.04067721216065512   -0.6839846968650818  -0.5307199358940125  -0.5255457162857056  9999        1         0              0.01635386086729578   -37.57253671534393   29.444981919293294  38.21428299893343   143.7104052706489   61.147640188121315  0        -1.154412031173706   0.9792776048621659   -0.8922590613365173  6509.6606  -198.75492120774646  30.899456208643468  -351.51106597985967  -16.804880849281137"
      ]
     },
     "execution_count": 4,
     "metadata": {},
     "output_type": "execute_result"
    }
   ],
   "source": [
    "output = galaxia_ananke.make_survey_from_particles(p, rho_pos, rho_vel, fsample=0.01, photo_sys='padova/LSST', cmd_magnames='r,g-r', caching=True)#, simname='sim', surveyname='survey', fsample=1, ngb=64, **kwargs):\n",
    "output"
   ]
  }
 ],
 "metadata": {
  "kernelspec": {
   "display_name": "test_pypi",
   "language": "python",
   "name": "python3"
  },
  "language_info": {
   "codemirror_mode": {
    "name": "ipython",
    "version": 3
   },
   "file_extension": ".py",
   "mimetype": "text/x-python",
   "name": "python",
   "nbconvert_exporter": "python",
   "pygments_lexer": "ipython3",
   "version": "3.10.17"
  }
 },
 "nbformat": 4,
 "nbformat_minor": 5
}
