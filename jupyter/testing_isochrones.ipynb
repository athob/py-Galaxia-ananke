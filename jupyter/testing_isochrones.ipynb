{
 "cells": [
  {
   "cell_type": "code",
   "execution_count": null,
   "metadata": {},
   "outputs": [],
   "source": [
    "import numpy as np\n",
    "import galaxia_ananke"
   ]
  },
  {
   "cell_type": "code",
   "execution_count": null,
   "metadata": {},
   "outputs": [],
   "source": [
    "iso = galaxia_ananke.photometry.available_photo_systems['padova/GAIA__DR2']"
   ]
  },
  {
   "cell_type": "code",
   "execution_count": 3,
   "metadata": {},
   "outputs": [],
   "source": [
    "isochrone_data = {i_file.metallicity: i_file.data.to_pandas().assign(Age=np.log10(i_file.data['Age']))[\n",
    "    ['Age', 'Mini', 'Mass', 'logL', 'logTe', 'logg', 'Gmag', 'G_BPmag', 'G_RPmag']\n",
    "    ].rename(columns=dict(zip(['Age', 'Mini', 'Mass', 'logL', 'logTe', 'logg'],['Age','M_ini', 'M_act', 'Lum', 'T_eff', 'Grav'])))\n",
    "    for i_file in iso._isochrone.isochrone_files}"
   ]
  },
  {
   "cell_type": "code",
   "execution_count": null,
   "metadata": {},
   "outputs": [],
   "source": [
    "galaxia_ananke.photometry.available_photo_systems.add_isochrone('Test', isochrone_data, overwrite=True)"
   ]
  },
  {
   "cell_type": "code",
   "execution_count": null,
   "metadata": {},
   "outputs": [],
   "source": [
    "new_iso = galaxia_ananke.photometry.available_photo_systems['py_custom/Test']"
   ]
  },
  {
   "cell_type": "code",
   "execution_count": null,
   "metadata": {},
   "outputs": [],
   "source": []
  }
 ],
 "metadata": {
  "kernelspec": {
   "display_name": "Python 3.7.14 64-bit",
   "language": "python",
   "name": "python3"
  },
  "language_info": {
   "codemirror_mode": {
    "name": "ipython",
    "version": 3
   },
   "file_extension": ".py",
   "mimetype": "text/x-python",
   "name": "python",
   "nbconvert_exporter": "python",
   "pygments_lexer": "ipython3",
   "version": "3.8.0"
  },
  "orig_nbformat": 4,
  "vscode": {
   "interpreter": {
    "hash": "767d51c1340bd893661ea55ea3124f6de3c7a262a8b4abca0554b478b1e2ff90"
   }
  }
 },
 "nbformat": 4,
 "nbformat_minor": 2
}
